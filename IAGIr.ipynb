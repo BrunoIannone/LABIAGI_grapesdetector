{
  "cells": [
    {
      "cell_type": "markdown",
      "metadata": {
        "id": "view-in-github",
        "colab_type": "text"
      },
      "source": [
        "<a href=\"https://colab.research.google.com/github/BrunoIannone/LABIAGI_grapesdetector/blob/main/IAGIr.ipynb\" target=\"_parent\"><img src=\"https://colab.research.google.com/assets/colab-badge.svg\" alt=\"Open In Colab\"/></a>"
      ]
    },
    {
      "cell_type": "markdown",
      "metadata": {
        "id": "yNveqeA1KXGy"
      },
      "source": [
        "# 1) *Cloning* della repo di *Yolov5*, installazione dipendenze e *import* librerie\n"
      ]
    },
    {
      "cell_type": "code",
      "execution_count": null,
      "metadata": {
        "id": "kTvDNSILZoN9"
      },
      "outputs": [],
      "source": [
        "#clone YOLOv5 and \n",
        "!git clone https://github.com/ultralytics/yolov5  # clone repo\n",
        "%cd yolov5\n",
        "%pip install -qr requirements.txt # install dependencies\n",
        "%pip install -q roboflow\n",
        "\n",
        "import torch\n",
        "import os\n",
        "from IPython.display import Image, clear_output  # to display images\n",
        "\n",
        "print(f\"Setup complete. Using torch {torch.__version__} ({torch.cuda.get_device_properties(0).name if torch.cuda.is_available() else 'CPU'})\")\n"
      ]
    },
    {
      "cell_type": "markdown",
      "metadata": {
        "id": "agkhGCGewkZQ"
      },
      "source": [
        "# 2) *Download* del *dataset* da *Roboflow*\n"
      ]
    },
    {
      "cell_type": "markdown",
      "source": [
        "Specifico percorso del *dataset*"
      ],
      "metadata": {
        "id": "kQEGQczo0Kwl"
      }
    },
    {
      "cell_type": "code",
      "metadata": {
        "id": "2jjT5uIHo6l5"
      },
      "source": [
        "os.environ[\"DATASET_DIRECTORY\"] = \"/content/datasets\""
      ],
      "execution_count": null,
      "outputs": []
    },
    {
      "cell_type": "markdown",
      "source": [
        "Importiamo Roboflow e il modello (in questo caso *Yolov5*)"
      ],
      "metadata": {
        "id": "ZkC-tPgYr_9N"
      }
    },
    {
      "cell_type": "code",
      "execution_count": null,
      "metadata": {
        "id": "FwJcaoPGF4VI"
      },
      "outputs": [],
      "source": [
        "from roboflow import Roboflow\n",
        "rf = Roboflow(model_format=\"yolov5\", notebook=\"ultralytics\")"
      ]
    },
    {
      "cell_type": "markdown",
      "source": [
        "Codice generato da Roboflow per il *download* del dataset"
      ],
      "metadata": {
        "id": "k06tnSLdsRhv"
      }
    },
    {
      "cell_type": "code",
      "source": [
        "rf = Roboflow(api_key=\"olElazA0TsqKaw9m4wG7\")\n",
        "project = rf.workspace(\"iagi\").project(\"iagi\")\n",
        "dataset = project.version(8).download(\"yolov5\")"
      ],
      "metadata": {
        "id": "BTYYvz6fr7d8"
      },
      "execution_count": null,
      "outputs": []
    },
    {
      "cell_type": "markdown",
      "metadata": {
        "id": "X7yAi9hd-T4B"
      },
      "source": [
        "# 3) Addestramento di YOLOv5\n",
        "\n",
        "Nel training specifichiamo i seguenti parametri:\n",
        "- **img:** dimensione dell'immagine di input\n",
        "- **batch:** dimensione dei *batch* delle immagini\n",
        "- **epochs:** numero delle epoche per il *training*.\n",
        "- **data:** la *location* del dataset è salvata in `dataset.location`\n",
        "- **weights:** specifica un percorso ai pesi da cui iniziare l'apprendimento. In questo caso si utilizza un generico *checkpoint* di COCO.\n",
        "- **cache:** *caching* delle immagini per velocizzare l'addestramento."
      ]
    },
    {
      "cell_type": "code",
      "execution_count": null,
      "metadata": {
        "id": "eaFNnxLJbq4J"
      },
      "outputs": [],
      "source": [
        "!python train.py --img 640 --batch 64 --epochs 150 --data {dataset.location}/data.yaml  --cache "
      ]
    },
    {
      "cell_type": "markdown",
      "metadata": {
        "id": "AcIRLQOlA14A"
      },
      "source": [
        "# Valutazione performance del detector\n",
        "*Training losses* e *performance* metriche vengono salvate in *Tensorboard* e in un *logfile*.\n"
      ]
    },
    {
      "cell_type": "code",
      "execution_count": null,
      "metadata": {
        "id": "1jS9_BxdBBHL"
      },
      "outputs": [],
      "source": [
        "# Start tensorboard\n",
        "# Launch after you have started training\n",
        "# logs save in the folder \"runs\"\n",
        "%load_ext tensorboard\n",
        "%tensorboard --logdir runs"
      ]
    },
    {
      "cell_type": "markdown",
      "metadata": {
        "id": "jtmS7_TXFsT3"
      },
      "source": [
        "#Verifica dei pesi\n",
        "Con i pesi calcolati, si va a verificare le capacità del modello sul *test set*  contenuto in `test/images`.\n",
        "\n",
        "Nel detecting specifichiamo i seguenti parametri:\n",
        "- **weights:** specifica il percorso dei pesi da usare per il *detecting*.\n",
        "- **img:** dimensione dell'immagine di input\n",
        "- **source** specifica il percorso per le immagini del *test set*\n",
        "- **line-thickness** dimensione (in pixel) delle *bounding box*\n",
        "- **conf-thres** *confidence threshold*"
      ]
    },
    {
      "cell_type": "code",
      "execution_count": null,
      "metadata": {
        "id": "TWjjiBcic3Vz"
      },
      "outputs": [],
      "source": [
        "!python detect.py --weights runs/train/exp/weights/best.pt  --img 640  --conf 0.1 --source {dataset.location}/test/images   --line-thickness 1  --conf-thres 0.51 "
      ]
    },
    {
      "cell_type": "markdown",
      "source": [
        "# 4) Verifica della *detection*\n",
        "\n",
        "Infine, possiamo visualizzare i risultati calcolati sul *test set*"
      ],
      "metadata": {
        "id": "LzKsLLjXqsif"
      }
    },
    {
      "cell_type": "code",
      "execution_count": null,
      "metadata": {
        "id": "ZbUn4_b9GCKO"
      },
      "outputs": [],
      "source": [
        "#display inference on ALL test images\n",
        "\n",
        "import glob\n",
        "from IPython.display import Image, display\n",
        "\n",
        "for imageName in glob.glob('/content/yolov5/runs/detect/exp2/*.jpg'): #assuming JPG\n",
        "    display(Image(filename=imageName))\n",
        "    print(\"\\n\")"
      ]
    },
    {
      "cell_type": "markdown",
      "metadata": {
        "id": "g8dHcni6CJYt"
      },
      "source": [
        "# 5) Salvataggio dei pesi calcolati\n",
        "\n",
        "Se i risultati sono soddisfacenti, è possibile scaricare i pesi calcolati"
      ]
    },
    {
      "cell_type": "code",
      "execution_count": null,
      "metadata": {
        "id": "7iiObB2WCMh6"
      },
      "outputs": [],
      "source": [
        "#export your model's weights for future use\n",
        "from google.colab import files\n",
        "files.download('./runs/train/exp/weights/best.pt')"
      ]
    }
  ],
  "metadata": {
    "accelerator": "GPU",
    "colab": {
      "collapsed_sections": [],
      "provenance": [],
      "include_colab_link": true
    },
    "kernelspec": {
      "display_name": "Python 3",
      "name": "python3"
    },
    "language_info": {
      "name": "python"
    }
  },
  "nbformat": 4,
  "nbformat_minor": 0
}